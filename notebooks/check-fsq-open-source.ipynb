{
 "cells": [
  {
   "cell_type": "code",
   "execution_count": 1,
   "id": "929ece6d-af91-458f-aa47-da9b23d0b44e",
   "metadata": {},
   "outputs": [],
   "source": [
    "from datetime import date\n",
    "\n",
    "from boto3 import resource"
   ]
  },
  {
   "cell_type": "code",
   "execution_count": 4,
   "id": "cac642aa-7d5d-414d-b45d-236239f97e1b",
   "metadata": {},
   "outputs": [],
   "source": [
    "# path to where foursquare release data is located\n",
    "bkt_pth = 's3://fsq-os-places-us-east-1/release/'"
   ]
  },
  {
   "cell_type": "code",
   "execution_count": 6,
   "id": "37c7b46e-9ff6-499b-baab-eab452437212",
   "metadata": {},
   "outputs": [],
   "source": [
    "# split apart the buckeet string parts on the forward slash\n",
    "bkt_prts = [prt for prt in bkt_pth.split('/') if len(prt) > 0 and prt != 's3:']\n",
    "\n",
    "# pull out the bucket name\n",
    "bkt_name = bkt_prts[0]\n",
    "\n",
    "# get the path suffix\n",
    "bkt_suffix = '/'.join(bkt_prts[1:])"
   ]
  },
  {
   "cell_type": "code",
   "execution_count": null,
   "id": "8a131007-2fbc-4428-a57c-359fe42e19fd",
   "metadata": {},
   "outputs": [],
   "source": [
    "# get a bucket object to interrogate\n",
    "bkt = resource('s3').Bucket(bkt_name)\n",
    "\n",
    "# get the part of the path with the date\n",
    "obj_str_set = set(bkt_obj.key.split('/')[1] for bkt_obj in bkt.objects.filter(Prefix=bkt_suffix))\n",
    "\n",
    "# get just the date part of the string\n",
    "dt_str_lst = [dt_str.split('=')[1] for dt_str in obj_str_set if dt_str.startswith('dt=')]\n",
    "\n",
    "# create date objects from the date strings\n",
    "dt_lst = [date(*map(int, (dt_str.split('-')))) for dt_str in dt_str_lst]\n",
    "\n",
    "# sort so easier to view and work with\n",
    "dt_lst.sort()\n",
    "\n",
    "# get today's date\n",
    "dt_today = date.today()\n",
    "\n",
    "# get a list of released dates with the same month and year as current\n",
    "mtch_lst = [dt for dt in dt_lst if dt_today.year == dt.year and dt_today.month == dt.month]\n",
    "\n",
    "# boolean if data has been released for current month\n",
    "data_released = len(mtch_lst) > 1"
   ]
  },
  {
   "cell_type": "code",
   "execution_count": 74,
   "id": "a9aa7c1c-91da-4abf-86d2-906b87a297f3",
   "metadata": {},
   "outputs": [
    {
     "data": {
      "text/plain": [
       "False"
      ]
     },
     "execution_count": 74,
     "metadata": {},
     "output_type": "execute_result"
    }
   ],
   "source": [
    "data_released"
   ]
  },
  {
   "cell_type": "code",
   "execution_count": 79,
   "id": "3b5fdd31-8f2d-4209-b564-af50fa543a10",
   "metadata": {},
   "outputs": [
    {
     "data": {
      "text/plain": [
       "False"
      ]
     },
     "execution_count": 79,
     "metadata": {},
     "output_type": "execute_result"
    }
   ],
   "source": [
    "data_released"
   ]
  },
  {
   "cell_type": "code",
   "execution_count": 2,
   "id": "95eb8ff4-d2a3-4c7f-8bf3-f1b2a48d4e5c",
   "metadata": {},
   "outputs": [],
   "source": [
    "import boto3"
   ]
  },
  {
   "cell_type": "code",
   "execution_count": null,
   "id": "7c6b9162-1bc9-43e2-a7d4-70a65a897fd4",
   "metadata": {},
   "outputs": [],
   "source": []
  }
 ],
 "metadata": {
  "kernelspec": {
   "display_name": "Python 3 (ipykernel)",
   "language": "python",
   "name": "python3"
  },
  "language_info": {
   "codemirror_mode": {
    "name": "ipython",
    "version": 3
   },
   "file_extension": ".py",
   "mimetype": "text/x-python",
   "name": "python",
   "nbconvert_exporter": "python",
   "pygments_lexer": "ipython3",
   "version": "3.11.10"
  }
 },
 "nbformat": 4,
 "nbformat_minor": 5
}
